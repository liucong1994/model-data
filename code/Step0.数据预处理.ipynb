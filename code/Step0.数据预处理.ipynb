{
 "cells": [
  {
   "cell_type": "markdown",
   "id": "693c93db",
   "metadata": {},
   "source": [
    "# 形成label数据"
   ]
  },
  {
   "cell_type": "code",
   "execution_count": 69,
   "id": "dcc064bd",
   "metadata": {
    "scrolled": false
   },
   "outputs": [
    {
     "data": {
      "text/html": [
       "<div>\n",
       "<style scoped>\n",
       "    .dataframe tbody tr th:only-of-type {\n",
       "        vertical-align: middle;\n",
       "    }\n",
       "\n",
       "    .dataframe tbody tr th {\n",
       "        vertical-align: top;\n",
       "    }\n",
       "\n",
       "    .dataframe thead th {\n",
       "        text-align: right;\n",
       "    }\n",
       "</style>\n",
       "<table border=\"1\" class=\"dataframe\">\n",
       "  <thead>\n",
       "    <tr style=\"text-align: right;\">\n",
       "      <th></th>\n",
       "      <th>ID</th>\n",
       "      <th>label</th>\n",
       "      <th>group</th>\n",
       "    </tr>\n",
       "  </thead>\n",
       "  <tbody>\n",
       "    <tr>\n",
       "      <th>0</th>\n",
       "      <td>CAI_CONG_ZHI_P00581652.nii.gz</td>\n",
       "      <td>1</td>\n",
       "      <td>train</td>\n",
       "    </tr>\n",
       "    <tr>\n",
       "      <th>1</th>\n",
       "      <td>CAI_XUE_YING_P00359999.nii.gz</td>\n",
       "      <td>1</td>\n",
       "      <td>train</td>\n",
       "    </tr>\n",
       "    <tr>\n",
       "      <th>2</th>\n",
       "      <td>CAO_BAO_HUA_P00190203.nii.gz</td>\n",
       "      <td>1</td>\n",
       "      <td>train</td>\n",
       "    </tr>\n",
       "    <tr>\n",
       "      <th>3</th>\n",
       "      <td>CAO_MIN_P00549794.nii.gz</td>\n",
       "      <td>1</td>\n",
       "      <td>train</td>\n",
       "    </tr>\n",
       "    <tr>\n",
       "      <th>4</th>\n",
       "      <td>CHEN_LAN_YING_P00551393.nii.gz</td>\n",
       "      <td>1</td>\n",
       "      <td>train</td>\n",
       "    </tr>\n",
       "    <tr>\n",
       "      <th>...</th>\n",
       "      <td>...</td>\n",
       "      <td>...</td>\n",
       "      <td>...</td>\n",
       "    </tr>\n",
       "    <tr>\n",
       "      <th>284</th>\n",
       "      <td>ZHAO_YUN_P00310065.nii.gz</td>\n",
       "      <td>0</td>\n",
       "      <td>test</td>\n",
       "    </tr>\n",
       "    <tr>\n",
       "      <th>285</th>\n",
       "      <td>ZHAO_ZHANG_ZHI_P00206369.nii.gz</td>\n",
       "      <td>0</td>\n",
       "      <td>test</td>\n",
       "    </tr>\n",
       "    <tr>\n",
       "      <th>286</th>\n",
       "      <td>ZHENG_XI_DE_P00266862.nii.gz</td>\n",
       "      <td>0</td>\n",
       "      <td>test</td>\n",
       "    </tr>\n",
       "    <tr>\n",
       "      <th>287</th>\n",
       "      <td>ZHOU_RONG_P00306340.nii.gz</td>\n",
       "      <td>0</td>\n",
       "      <td>test</td>\n",
       "    </tr>\n",
       "    <tr>\n",
       "      <th>288</th>\n",
       "      <td>ZHUANG_ZHI_MIN_P00322774.nii.gz</td>\n",
       "      <td>0</td>\n",
       "      <td>test</td>\n",
       "    </tr>\n",
       "  </tbody>\n",
       "</table>\n",
       "<p>289 rows × 3 columns</p>\n",
       "</div>"
      ],
      "text/plain": [
       "                                  ID  label  group\n",
       "0      CAI_CONG_ZHI_P00581652.nii.gz      1  train\n",
       "1      CAI_XUE_YING_P00359999.nii.gz      1  train\n",
       "2       CAO_BAO_HUA_P00190203.nii.gz      1  train\n",
       "3           CAO_MIN_P00549794.nii.gz      1  train\n",
       "4     CHEN_LAN_YING_P00551393.nii.gz      1  train\n",
       "..                               ...    ...    ...\n",
       "284        ZHAO_YUN_P00310065.nii.gz      0   test\n",
       "285  ZHAO_ZHANG_ZHI_P00206369.nii.gz      0   test\n",
       "286     ZHENG_XI_DE_P00266862.nii.gz      0   test\n",
       "287       ZHOU_RONG_P00306340.nii.gz      0   test\n",
       "288  ZHUANG_ZHI_MIN_P00322774.nii.gz      0   test\n",
       "\n",
       "[289 rows x 3 columns]"
      ]
     },
     "execution_count": 69,
     "metadata": {},
     "output_type": "execute_result"
    }
   ],
   "source": [
    "import os\n",
    "import pandas as pd\n",
    "import shutil\n",
    "from glob import glob\n",
    "\n",
    "root = r'D:/20240420-LiXiaoFeng/data'\n",
    "label_data = []\n",
    "img_dir = os.path.join(root, 'images')\n",
    "os.makedirs(img_dir, exist_ok=True)\n",
    "msk_dir = os.path.join(root, 'masks')\n",
    "os.makedirs(msk_dir, exist_ok=True)\n",
    "\n",
    "for subset in ['train', 'test']:\n",
    "    for label in os.listdir(os.path.join(root, subset)):\n",
    "        if '-' in label:\n",
    "            lv = 0\n",
    "        else:\n",
    "            lv = 1\n",
    "        for sample in os.listdir(os.path.join(root, subset, label)):\n",
    "#             print(sample)\n",
    "            if os.path.isdir(os.path.join(root, subset, label, sample)):\n",
    "                label_data.append([sample.replace(',', ''), lv, subset])\n",
    "#                 mp, ip = list(sorted(glob(os.path.join(root, subset, label, sample, '*.nii.gz')), key=lambda x: os.path.getsize(x)))\n",
    "#                 shutil.copy(os.path.join(root, subset, label, sample, mp), os.path.join(msk_dir, f\"{sample}.nii.gz\"))\n",
    "#                 shutil.copy(os.path.join(root, subset, label, sample, ip), os.path.join(img_dir, f\"{sample}.nii.gz\"))\n",
    "label_data = pd.DataFrame(label_data, columns=['ID', 'label', 'group']).drop_duplicates('ID')\n",
    "label_data['ID'] = label_data['ID'].map(lambda x: f\"{x}.nii.png\")\n",
    "label_data = pd.merge(label_data, pd.DataFrame(os.listdir(r'D:/20240420-LiXiaoFeng/vnet_crop_full/'), columns=['ID']), on='ID', how='inner')\n",
    "label_data['ID'] = label_data['ID'].map(lambda x: x.replace('.png', '.gz'))\n",
    "label_data.to_csv(os.path.join(root, 'label.csv'), index=False)\n",
    "label_data"
   ]
  },
  {
   "cell_type": "code",
   "execution_count": 70,
   "id": "3c02694a",
   "metadata": {},
   "outputs": [
    {
     "data": {
      "text/plain": [
       "train    209\n",
       "test      80\n",
       "Name: group, dtype: int64"
      ]
     },
     "execution_count": 70,
     "metadata": {},
     "output_type": "execute_result"
    }
   ],
   "source": [
    "label_data['group'].value_counts()"
   ]
  },
  {
   "cell_type": "code",
   "execution_count": 71,
   "id": "66c695f5",
   "metadata": {},
   "outputs": [
    {
     "name": "stdout",
     "output_type": "stream",
     "text": [
      "随机划分：0，训练集：146, 测试集集：143\n",
      "随机划分：1，训练集：146, 测试集集：143\n",
      "随机划分：2，训练集：146, 测试集集：143\n",
      "随机划分：3，训练集：146, 测试集集：143\n",
      "随机划分：4，训练集：146, 测试集集：143\n"
     ]
    }
   ],
   "source": [
    "import pandas as pd\n",
    "import os\n",
    "import numpy as np\n",
    "from onekey_algo.custom.components.comp2 import split_dataset4sol\n",
    "from onekey_algo import get_param_in_cwd      \n",
    "\n",
    "train_data = label_data[label_data['group'] == 'train']\n",
    "test_data = label_data[label_data['group'] != 'train']\n",
    "ds = split_dataset4sol(train_data, y_data=train_data['label'], n_trails=5, save_dir='.', \n",
    "                       random_state=0, cv=False, test_size=0.3)\n",
    "for idx, (train, val) in enumerate(ds):\n",
    "    val['group'] = 'val'\n",
    "    pd.concat([train, val, test_data], axis=0).to_csv(os.path.join('split_info', f'label-RND-{idx}.csv'), index=False)\n",
    "    train['ID'] = train['ID'].map(lambda x: x.replace('.gz', '.png'))\n",
    "    train[['ID', 'label']].to_csv(os.path.join('split_info', f'train-RND-{idx}.txt'), index=False, header=False, sep='\\t')\n",
    "    valtest = pd.concat([val, test_data], axis=0)\n",
    "    valtest['ID'] = valtest['ID'].map(lambda x: x.replace('.gz', '.png'))\n",
    "    valtest[['ID', 'label']].to_csv(os.path.join('split_info', f'val-RND-{idx}.txt'), index=False, header=False, sep='\\t')\n",
    "    print(f\"随机划分：{idx}，训练集：{train.shape[0]}, 测试集集：{valtest.shape[0]}\")"
   ]
  },
  {
   "cell_type": "code",
   "execution_count": 74,
   "id": "4ccc4081",
   "metadata": {},
   "outputs": [
    {
     "name": "stderr",
     "output_type": "stream",
     "text": [
      "[2024-04-22 18:09:09 - __init__.py:  55]\tINFO\tID特征完全匹配！\n"
     ]
    },
    {
     "data": {
      "text/html": [
       "<div>\n",
       "<style scoped>\n",
       "    .dataframe tbody tr th:only-of-type {\n",
       "        vertical-align: middle;\n",
       "    }\n",
       "\n",
       "    .dataframe tbody tr th {\n",
       "        vertical-align: top;\n",
       "    }\n",
       "\n",
       "    .dataframe thead th {\n",
       "        text-align: right;\n",
       "    }\n",
       "</style>\n",
       "<table border=\"1\" class=\"dataframe\">\n",
       "  <thead>\n",
       "    <tr style=\"text-align: right;\">\n",
       "      <th></th>\n",
       "      <th>ID</th>\n",
       "      <th>label</th>\n",
       "      <th>group</th>\n",
       "    </tr>\n",
       "  </thead>\n",
       "  <tbody>\n",
       "    <tr>\n",
       "      <th>0</th>\n",
       "      <td>DONG HUIP00343158.nii.png</td>\n",
       "      <td>0</td>\n",
       "      <td>train</td>\n",
       "    </tr>\n",
       "    <tr>\n",
       "      <th>1</th>\n",
       "      <td>YAO YU MING_P00096109.nii.png</td>\n",
       "      <td>0</td>\n",
       "      <td>train</td>\n",
       "    </tr>\n",
       "    <tr>\n",
       "      <th>2</th>\n",
       "      <td>DENG YUE YINGP00332485.nii.png</td>\n",
       "      <td>0</td>\n",
       "      <td>train</td>\n",
       "    </tr>\n",
       "    <tr>\n",
       "      <th>3</th>\n",
       "      <td>JIANG XIU JUAN_P00104388.nii.png</td>\n",
       "      <td>0</td>\n",
       "      <td>train</td>\n",
       "    </tr>\n",
       "    <tr>\n",
       "      <th>4</th>\n",
       "      <td>DAI_XIAO_HUI_P00307303.nii.png</td>\n",
       "      <td>0</td>\n",
       "      <td>train</td>\n",
       "    </tr>\n",
       "    <tr>\n",
       "      <th>...</th>\n",
       "      <td>...</td>\n",
       "      <td>...</td>\n",
       "      <td>...</td>\n",
       "    </tr>\n",
       "    <tr>\n",
       "      <th>284</th>\n",
       "      <td>ZHAO_YUN_P00310065.nii.png</td>\n",
       "      <td>0</td>\n",
       "      <td>test</td>\n",
       "    </tr>\n",
       "    <tr>\n",
       "      <th>285</th>\n",
       "      <td>ZHAO_ZHANG_ZHI_P00206369.nii.png</td>\n",
       "      <td>0</td>\n",
       "      <td>test</td>\n",
       "    </tr>\n",
       "    <tr>\n",
       "      <th>286</th>\n",
       "      <td>ZHENG_XI_DE_P00266862.nii.png</td>\n",
       "      <td>0</td>\n",
       "      <td>test</td>\n",
       "    </tr>\n",
       "    <tr>\n",
       "      <th>287</th>\n",
       "      <td>ZHOU_RONG_P00306340.nii.png</td>\n",
       "      <td>0</td>\n",
       "      <td>test</td>\n",
       "    </tr>\n",
       "    <tr>\n",
       "      <th>288</th>\n",
       "      <td>ZHUANG_ZHI_MIN_P00322774.nii.png</td>\n",
       "      <td>0</td>\n",
       "      <td>test</td>\n",
       "    </tr>\n",
       "  </tbody>\n",
       "</table>\n",
       "<p>289 rows × 3 columns</p>\n",
       "</div>"
      ],
      "text/plain": [
       "                                   ID  label  group\n",
       "0           DONG HUIP00343158.nii.png      0  train\n",
       "1       YAO YU MING_P00096109.nii.png      0  train\n",
       "2      DENG YUE YINGP00332485.nii.png      0  train\n",
       "3    JIANG XIU JUAN_P00104388.nii.png      0  train\n",
       "4      DAI_XIAO_HUI_P00307303.nii.png      0  train\n",
       "..                                ...    ...    ...\n",
       "284        ZHAO_YUN_P00310065.nii.png      0   test\n",
       "285  ZHAO_ZHANG_ZHI_P00206369.nii.png      0   test\n",
       "286     ZHENG_XI_DE_P00266862.nii.png      0   test\n",
       "287       ZHOU_RONG_P00306340.nii.png      0   test\n",
       "288  ZHUANG_ZHI_MIN_P00322774.nii.png      0   test\n",
       "\n",
       "[289 rows x 3 columns]"
      ]
     },
     "execution_count": 74,
     "metadata": {},
     "output_type": "execute_result"
    }
   ],
   "source": [
    "from onekey_algo.custom.utils import print_join_info\n",
    "label_data = pd.read_csv('split_info/label-RND-1.csv')\n",
    "label_data['ID'] = label_data['ID'].map(lambda x: x.replace('.gz', '.png'))\n",
    "label_data = pd.merge(label_data, pd.DataFrame(os.listdir(r'D:/20240420-LiXiaoFeng/vnet_crop_full/'), columns=['ID']), on='ID', how='inner')\n",
    "print_join_info(label_data, pd.DataFrame(os.listdir(r'D:/20240420-LiXiaoFeng/vnet_crop_full/'), columns=['ID']))\n",
    "label_data.to_csv('data/group.csv', index=False)\n",
    "label_data\n",
    "# "
   ]
  },
  {
   "cell_type": "code",
   "execution_count": 75,
   "id": "c7f72e57",
   "metadata": {},
   "outputs": [
    {
     "data": {
      "text/plain": [
       "train    146\n",
       "test      80\n",
       "val       63\n",
       "Name: group, dtype: int64"
      ]
     },
     "execution_count": 75,
     "metadata": {},
     "output_type": "execute_result"
    }
   ],
   "source": [
    "label_data['group'].value_counts()"
   ]
  },
  {
   "cell_type": "code",
   "execution_count": 76,
   "id": "4205ee08",
   "metadata": {},
   "outputs": [],
   "source": [
    "label_data[label_data['group'] == 'train'][['ID', 'label']].to_csv('split_info/train.txt', sep='\\t', index=False, header=False)\n",
    "label_data[label_data['group'] != 'train'][['ID', 'label']].to_csv('split_info/test.txt', sep='\\t', index=False, header=False)"
   ]
  },
  {
   "cell_type": "code",
   "execution_count": 26,
   "id": "92f4283f",
   "metadata": {},
   "outputs": [],
   "source": [
    "import shutil\n",
    "\n",
    "for r, ds, fs in os.walk(r'D:/20240420-LiXiaoFeng/'):\n",
    "    for f in fs:\n",
    "        shutil.move(os.path.join(r, f), os.path.join(r, f.replace(',', '')))"
   ]
  },
  {
   "cell_type": "code",
   "execution_count": null,
   "id": "c745995b",
   "metadata": {},
   "outputs": [],
   "source": []
  }
 ],
 "metadata": {
  "kernelspec": {
   "display_name": "Python 3 (ipykernel)",
   "language": "python",
   "name": "python3"
  },
  "language_info": {
   "codemirror_mode": {
    "name": "ipython",
    "version": 3
   },
   "file_extension": ".py",
   "mimetype": "text/x-python",
   "name": "python",
   "nbconvert_exporter": "python",
   "pygments_lexer": "ipython3",
   "version": "3.7.12"
  }
 },
 "nbformat": 4,
 "nbformat_minor": 5
}
